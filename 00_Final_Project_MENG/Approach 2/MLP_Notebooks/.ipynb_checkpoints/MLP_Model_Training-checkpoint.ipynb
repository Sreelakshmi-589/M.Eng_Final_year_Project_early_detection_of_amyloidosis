{
 "cells": [
  {
   "cell_type": "code",
   "execution_count": 15,
   "id": "bd260083-ce2c-487d-8d92-c421a2ef4f80",
   "metadata": {},
   "outputs": [
    {
     "name": "stdout",
     "output_type": "stream",
     "text": [
      "Libraries imported.\n"
     ]
    }
   ],
   "source": [
    "# Importing Libraries \n",
    "import os\n",
    "import pandas as pd\n",
    "import numpy as np\n",
    "import joblib\n",
    "from sklearn.model_selection import train_test_split\n",
    "from tqdm.auto import tqdm\n",
    "import matplotlib.pyplot as plt\n",
    "\n",
    "# --- TensorFlow and Keras for Model Building ---\n",
    "import tensorflow as tf\n",
    "from tensorflow.keras.models import Sequential\n",
    "from tensorflow.keras.layers import Dense, Dropout, Input, BatchNormalization\n",
    "from tensorflow.keras.callbacks import EarlyStopping\n",
    "\n",
    "# --- Scikit-learn for Feature Engineering and Comprehensive Evaluation ---\n",
    "from sklearn.feature_extraction.text import TfidfVectorizer\n",
    "\n",
    "print(\"Libraries imported.\")"
   ]
  },
  {
   "cell_type": "code",
   "execution_count": 17,
   "id": "90aa4371-f1eb-45d1-88f0-91403a2303f5",
   "metadata": {},
   "outputs": [
    {
     "name": "stdout",
     "output_type": "stream",
     "text": [
      "\n",
      "--- Phase 1: Configuration ---\n",
      "All outputs will be saved in: C:/Users/Sreelakshmi/00_Final_Project_MENG/Approach 2\\MLP\n"
     ]
    }
   ],
   "source": [
    "# Configuration and Setup \n",
    "\n",
    "print(\"\\n--- Phase 1: Configuration ---\")\n",
    "PROJECT_BASE_DIR = \"C:/Users/Sreelakshmi/00_Final_Project_MENG/Approach 2\"\n",
    "MODEL_NAME = \"MLP\"\n",
    "OUTPUT_DIR = os.path.join(PROJECT_BASE_DIR, MODEL_NAME)\n",
    "os.makedirs(OUTPUT_DIR, exist_ok=True)\n",
    "print(f\"All outputs will be saved in: {OUTPUT_DIR}\")\n",
    "\n",
    "IQVIA_DATA_PATH = \"C:/Users/Sreelakshmi/00_Final_Project_MENG/Approach 2/Dataset_2/IQVIA_dataset.csv\"\n",
    "ICD_MAP_PATH = \"C:/Users/Sreelakshmi/00_Final_Project_MENG/Approach 2/Dataset_2/icd_map.csv\""
   ]
  },
  {
   "cell_type": "code",
   "execution_count": 18,
   "id": "5502d04a-dbe4-4ad3-8001-81b2d0464725",
   "metadata": {},
   "outputs": [
    {
     "name": "stdout",
     "output_type": "stream",
     "text": [
      "\n",
      "--- Phase 2: Loading and Processing Data ---\n"
     ]
    },
    {
     "data": {
      "application/vnd.jupyter.widget-view+json": {
       "model_id": "34585cc0a553433ba59b0cb2c123ed0a",
       "version_major": 2,
       "version_minor": 0
      },
      "text/plain": [
       "Creating Patient Text Histories:   0%|          | 0/15394 [00:00<?, ?it/s]"
      ]
     },
     "metadata": {},
     "output_type": "display_data"
    },
    {
     "name": "stdout",
     "output_type": "stream",
     "text": [
      "Patient text histories created.\n"
     ]
    }
   ],
   "source": [
    "# --- 2. Load and Process Data ---\n",
    "print(\"\\n--- Phase 2: Loading and Processing Data ---\")\n",
    "\n",
    "# Load the main IQVIA dataset and ICD code mapping file\n",
    "iqvia_data = pd.read_csv(IQVIA_DATA_PATH)\n",
    "icd_map = pd.read_csv(ICD_MAP_PATH)\n",
    "\n",
    "# Step 1: Create a binary target column (amyloidosis vs non-amyloidosis)\n",
    "# If 'codes' column contains ICD codes starting with \"E85\", mark as 1 (amyloidosis case)\n",
    "# Otherwise, mark as 0\n",
    "iqvia_data['codes'] = iqvia_data['codes'].astype(str)  # ensure string type\n",
    "iqvia_data['has_amyloidosis'] = iqvia_data['codes'].str.contains('E85').astype(int)\n",
    "\n",
    "# Step 2: Prepare ICD mapping (clean codes for safe joining)\n",
    "icd_map['codes'] = icd_map['codes'].str.strip()  # remove spaces around codes\n",
    "\n",
    "# Step 3: Expand the codes into a long-format table\n",
    "# - Each patient may have multiple codes separated by commas\n",
    "# - 'explode' creates a new row per patient-code combination\n",
    "\n",
    "iqvia_data['codes_list'] = iqvia_data['codes'].str.split(',')  # split codes into list\n",
    "long_format_df = iqvia_data.explode('codes_list')  # un-nest list into rows\n",
    "\n",
    "# Step 4: Merge with ICD mapping to get human-readable descriptions\n",
    "# - Left join ensures all codes from patient records remain\n",
    "# - Missing descriptions are filled with 'unknown_code'\n",
    "merged_df = pd.merge(\n",
    "    long_format_df,\n",
    "    icd_map[['codes', 'short_desc']],\n",
    "    left_on='codes_list',\n",
    "    right_on='codes',\n",
    "    how='left'\n",
    ")\n",
    "merged_df['short_desc'] = merged_df['short_desc'].fillna('unknown_code')\n",
    "\n",
    "\n",
    "# Step 5: Create patient text history\n",
    "# - For each patient, combine all ICD code descriptions into one long string\n",
    "# - This creates a \"clinical notes\"-like feature for NLP or embedding models\n",
    "tqdm.pandas(desc=\"Creating Patient Text Histories\")\n",
    "patient_histories = merged_df.groupby('patient_id')['short_desc'].progress_apply(lambda x: ' '.join(x))\n",
    "\n",
    "# Step 6: Attach patient histories back to the original dataset\n",
    "# - Index by patient_id\n",
    "# - Add new column \"full_text_history\" with the concatenated descriptions\n",
    "processed_df = iqvia_data.set_index('patient_id').join(patient_histories.rename('full_text_history'))\n",
    "\n",
    "print(\"Patient text histories created.\")\n"
   ]
  },
  {
   "cell_type": "code",
   "execution_count": 5,
   "id": "42e4f1ae-f0a8-4e7d-add3-66350f4b6c2a",
   "metadata": {},
   "outputs": [
    {
     "name": "stdout",
     "output_type": "stream",
     "text": [
      "\n",
      "--- Phase 3: Feature Engineering with TF-IDF ---\n",
      "Text vectorized into a feature matrix of shape: (15394, 2000)\n"
     ]
    }
   ],
   "source": [
    "# --- 3. Feature Engineering with TF-IDF ---\n",
    "print(\"\\n--- Phase 3: Feature Engineering with TF-IDF ---\")\n",
    "\n",
    "# TF-IDF (Term Frequency - Inverse Document Frequency) is used here as a \"smart summarizer\".\n",
    "# It converts patient ICD code descriptions (text histories) into numerical features.\n",
    "# Each unique word/phrase gets a weight based on how important it is across all patients.\n",
    "\n",
    "# Limit to the top 2000 features (most informative words/terms) to keep the model efficient.\n",
    "TFIDF_MAX_FEATURES = 2000\n",
    "\n",
    "# Initialize the TF-IDF vectorizer\n",
    "# - stop_words='english': removes common, less informative words (e.g., \"the\", \"and\")\n",
    "# - ngram_range=(1, 2): captures both single words (unigrams) and two-word phrases (bigrams)\n",
    "tfidf_vectorizer = TfidfVectorizer(\n",
    "    max_features=TFIDF_MAX_FEATURES,\n",
    "    stop_words='english',\n",
    "    ngram_range=(1, 2)\n",
    ")\n",
    "\n",
    "# FIT the vectorizer on the patient history text and TRANSFORM it into a feature matrix\n",
    "# Each row = patient, each column = TF-IDF score for a word/phrase\n",
    "X_text_features = tfidf_vectorizer.fit_transform(processed_df['full_text_history']).toarray()\n",
    "\n",
    "# Target variable: whether a patient has amyloidosis (1) or not (0)\n",
    "y_target = processed_df['has_amyloidosis']\n",
    "\n",
    "# Print the shape of the resulting TF-IDF feature matrix for confirmation\n",
    "print(f\"Text vectorized into a feature matrix of shape: {X_text_features.shape}\")\n"
   ]
  },
  {
   "cell_type": "code",
   "execution_count": 19,
   "id": "04c51448-170c-41c0-a28d-a0ff4f2490c3",
   "metadata": {},
   "outputs": [
    {
     "name": "stdout",
     "output_type": "stream",
     "text": [
      "\n",
      "--- Phase 4: Splitting Data ---\n",
      "Final Split Sizes -> Train: 10774, Validation: 2310, Test: 2310\n"
     ]
    }
   ],
   "source": [
    "# --- 4. Split Data into Train, Validation, and Test Sets ---\n",
    "print(\"\\n--- Phase 4: Splitting Data ---\")\n",
    "\n",
    "# Step 1: Hold out 15% as the Test Set (for final evaluation only)\n",
    "X_train_val, X_test, y_train_val, y_test = train_test_split(\n",
    "    X_text_features, y_target,\n",
    "    test_size=0.15,\n",
    "    random_state=42,\n",
    "    stratify=y_target\n",
    ")\n",
    "\n",
    "# Step 2: Split the remaining 85% into Train and Validation\n",
    "#   - 0.1765 ≈ 15% of the original dataset, so that:\n",
    "#       Train = 70%, Validation = 15%, Test = 15%\n",
    "X_train, X_val, y_train, y_val = train_test_split(\n",
    "    X_train_val, y_train_val,\n",
    "    test_size=0.1765,  # ensures exact 70/15/15 split\n",
    "    random_state=42,\n",
    "    stratify=y_train_val\n",
    ")\n",
    "\n",
    "print(f\"Final Split Sizes -> Train: {X_train.shape[0]}, Validation: {X_val.shape[0]}, Test: {X_test.shape[0]}\")\n"
   ]
  },
  {
   "cell_type": "code",
   "execution_count": 20,
   "id": "ba1827e0-ace9-4a41-8ec2-90bac10d9a7a",
   "metadata": {},
   "outputs": [
    {
     "name": "stdout",
     "output_type": "stream",
     "text": [
      "\n",
      "--- Phase 5: Building the MLP Model ---\n"
     ]
    }
   ],
   "source": [
    "# --- 5. Build the MLP Model ---\n",
    "\n",
    "print(\"\\n--- Phase 5: Building the MLP Model ---\")\n",
    "model = Sequential([\n",
    "    Input(shape=(TFIDF_MAX_FEATURES,), name=\"tfidf_features\"),\n",
    "    \n",
    "    Dense(512, activation='relu'),\n",
    "    BatchNormalization(),\n",
    "    Dropout(0.3),\n",
    "    \n",
    "    Dense(256, activation='relu'),\n",
    "    BatchNormalization(),\n",
    "    Dropout(0.3),\n",
    "    \n",
    "    Dense(128, activation='relu'),\n",
    "    Dropout(0.3),\n",
    "    \n",
    "    Dense(1, activation='sigmoid')\n",
    "])\n"
   ]
  },
  {
   "cell_type": "code",
   "execution_count": 21,
   "id": "57b0030f-c2bf-4c7e-ba89-b5c1f3ff195c",
   "metadata": {},
   "outputs": [],
   "source": [
    "# --- 6. Compile the Model ---\n",
    "# Optimizer: 'adam' is a good default choice for most tasks\n",
    "# Loss: 'binary_crossentropy' since this is a binary classification problem\n",
    "# Metrics: 'accuracy' + AUC (area under ROC curve) to track classification quality beyond accuracy\n",
    "model.compile(\n",
    "    optimizer='adam',\n",
    "    loss='binary_crossentropy',\n",
    "    metrics=['accuracy', tf.keras.metrics.AUC(name='auc')]\n",
    ")\n"
   ]
  },
  {
   "cell_type": "code",
   "execution_count": 22,
   "id": "ee04c2ee-a030-45b6-ace4-a74688ba8458",
   "metadata": {},
   "outputs": [
    {
     "data": {
      "text/html": [
       "<pre style=\"white-space:pre;overflow-x:auto;line-height:normal;font-family:Menlo,'DejaVu Sans Mono',consolas,'Courier New',monospace\"><span style=\"font-weight: bold\">Model: \"sequential_1\"</span>\n",
       "</pre>\n"
      ],
      "text/plain": [
       "\u001b[1mModel: \"sequential_1\"\u001b[0m\n"
      ]
     },
     "metadata": {},
     "output_type": "display_data"
    },
    {
     "data": {
      "text/html": [
       "<pre style=\"white-space:pre;overflow-x:auto;line-height:normal;font-family:Menlo,'DejaVu Sans Mono',consolas,'Courier New',monospace\">┏━━━━━━━━━━━━━━━━━━━━━━━━━━━━━━━━━━━━━━┳━━━━━━━━━━━━━━━━━━━━━━━━━━━━━┳━━━━━━━━━━━━━━━━━┓\n",
       "┃<span style=\"font-weight: bold\"> Layer (type)                         </span>┃<span style=\"font-weight: bold\"> Output Shape                </span>┃<span style=\"font-weight: bold\">         Param # </span>┃\n",
       "┡━━━━━━━━━━━━━━━━━━━━━━━━━━━━━━━━━━━━━━╇━━━━━━━━━━━━━━━━━━━━━━━━━━━━━╇━━━━━━━━━━━━━━━━━┩\n",
       "│ dense_4 (<span style=\"color: #0087ff; text-decoration-color: #0087ff\">Dense</span>)                      │ (<span style=\"color: #00d7ff; text-decoration-color: #00d7ff\">None</span>, <span style=\"color: #00af00; text-decoration-color: #00af00\">512</span>)                 │       <span style=\"color: #00af00; text-decoration-color: #00af00\">1,024,512</span> │\n",
       "├──────────────────────────────────────┼─────────────────────────────┼─────────────────┤\n",
       "│ batch_normalization_2                │ (<span style=\"color: #00d7ff; text-decoration-color: #00d7ff\">None</span>, <span style=\"color: #00af00; text-decoration-color: #00af00\">512</span>)                 │           <span style=\"color: #00af00; text-decoration-color: #00af00\">2,048</span> │\n",
       "│ (<span style=\"color: #0087ff; text-decoration-color: #0087ff\">BatchNormalization</span>)                 │                             │                 │\n",
       "├──────────────────────────────────────┼─────────────────────────────┼─────────────────┤\n",
       "│ dropout_3 (<span style=\"color: #0087ff; text-decoration-color: #0087ff\">Dropout</span>)                  │ (<span style=\"color: #00d7ff; text-decoration-color: #00d7ff\">None</span>, <span style=\"color: #00af00; text-decoration-color: #00af00\">512</span>)                 │               <span style=\"color: #00af00; text-decoration-color: #00af00\">0</span> │\n",
       "├──────────────────────────────────────┼─────────────────────────────┼─────────────────┤\n",
       "│ dense_5 (<span style=\"color: #0087ff; text-decoration-color: #0087ff\">Dense</span>)                      │ (<span style=\"color: #00d7ff; text-decoration-color: #00d7ff\">None</span>, <span style=\"color: #00af00; text-decoration-color: #00af00\">256</span>)                 │         <span style=\"color: #00af00; text-decoration-color: #00af00\">131,328</span> │\n",
       "├──────────────────────────────────────┼─────────────────────────────┼─────────────────┤\n",
       "│ batch_normalization_3                │ (<span style=\"color: #00d7ff; text-decoration-color: #00d7ff\">None</span>, <span style=\"color: #00af00; text-decoration-color: #00af00\">256</span>)                 │           <span style=\"color: #00af00; text-decoration-color: #00af00\">1,024</span> │\n",
       "│ (<span style=\"color: #0087ff; text-decoration-color: #0087ff\">BatchNormalization</span>)                 │                             │                 │\n",
       "├──────────────────────────────────────┼─────────────────────────────┼─────────────────┤\n",
       "│ dropout_4 (<span style=\"color: #0087ff; text-decoration-color: #0087ff\">Dropout</span>)                  │ (<span style=\"color: #00d7ff; text-decoration-color: #00d7ff\">None</span>, <span style=\"color: #00af00; text-decoration-color: #00af00\">256</span>)                 │               <span style=\"color: #00af00; text-decoration-color: #00af00\">0</span> │\n",
       "├──────────────────────────────────────┼─────────────────────────────┼─────────────────┤\n",
       "│ dense_6 (<span style=\"color: #0087ff; text-decoration-color: #0087ff\">Dense</span>)                      │ (<span style=\"color: #00d7ff; text-decoration-color: #00d7ff\">None</span>, <span style=\"color: #00af00; text-decoration-color: #00af00\">128</span>)                 │          <span style=\"color: #00af00; text-decoration-color: #00af00\">32,896</span> │\n",
       "├──────────────────────────────────────┼─────────────────────────────┼─────────────────┤\n",
       "│ dropout_5 (<span style=\"color: #0087ff; text-decoration-color: #0087ff\">Dropout</span>)                  │ (<span style=\"color: #00d7ff; text-decoration-color: #00d7ff\">None</span>, <span style=\"color: #00af00; text-decoration-color: #00af00\">128</span>)                 │               <span style=\"color: #00af00; text-decoration-color: #00af00\">0</span> │\n",
       "├──────────────────────────────────────┼─────────────────────────────┼─────────────────┤\n",
       "│ dense_7 (<span style=\"color: #0087ff; text-decoration-color: #0087ff\">Dense</span>)                      │ (<span style=\"color: #00d7ff; text-decoration-color: #00d7ff\">None</span>, <span style=\"color: #00af00; text-decoration-color: #00af00\">1</span>)                   │             <span style=\"color: #00af00; text-decoration-color: #00af00\">129</span> │\n",
       "└──────────────────────────────────────┴─────────────────────────────┴─────────────────┘\n",
       "</pre>\n"
      ],
      "text/plain": [
       "┏━━━━━━━━━━━━━━━━━━━━━━━━━━━━━━━━━━━━━━┳━━━━━━━━━━━━━━━━━━━━━━━━━━━━━┳━━━━━━━━━━━━━━━━━┓\n",
       "┃\u001b[1m \u001b[0m\u001b[1mLayer (type)                        \u001b[0m\u001b[1m \u001b[0m┃\u001b[1m \u001b[0m\u001b[1mOutput Shape               \u001b[0m\u001b[1m \u001b[0m┃\u001b[1m \u001b[0m\u001b[1m        Param #\u001b[0m\u001b[1m \u001b[0m┃\n",
       "┡━━━━━━━━━━━━━━━━━━━━━━━━━━━━━━━━━━━━━━╇━━━━━━━━━━━━━━━━━━━━━━━━━━━━━╇━━━━━━━━━━━━━━━━━┩\n",
       "│ dense_4 (\u001b[38;5;33mDense\u001b[0m)                      │ (\u001b[38;5;45mNone\u001b[0m, \u001b[38;5;34m512\u001b[0m)                 │       \u001b[38;5;34m1,024,512\u001b[0m │\n",
       "├──────────────────────────────────────┼─────────────────────────────┼─────────────────┤\n",
       "│ batch_normalization_2                │ (\u001b[38;5;45mNone\u001b[0m, \u001b[38;5;34m512\u001b[0m)                 │           \u001b[38;5;34m2,048\u001b[0m │\n",
       "│ (\u001b[38;5;33mBatchNormalization\u001b[0m)                 │                             │                 │\n",
       "├──────────────────────────────────────┼─────────────────────────────┼─────────────────┤\n",
       "│ dropout_3 (\u001b[38;5;33mDropout\u001b[0m)                  │ (\u001b[38;5;45mNone\u001b[0m, \u001b[38;5;34m512\u001b[0m)                 │               \u001b[38;5;34m0\u001b[0m │\n",
       "├──────────────────────────────────────┼─────────────────────────────┼─────────────────┤\n",
       "│ dense_5 (\u001b[38;5;33mDense\u001b[0m)                      │ (\u001b[38;5;45mNone\u001b[0m, \u001b[38;5;34m256\u001b[0m)                 │         \u001b[38;5;34m131,328\u001b[0m │\n",
       "├──────────────────────────────────────┼─────────────────────────────┼─────────────────┤\n",
       "│ batch_normalization_3                │ (\u001b[38;5;45mNone\u001b[0m, \u001b[38;5;34m256\u001b[0m)                 │           \u001b[38;5;34m1,024\u001b[0m │\n",
       "│ (\u001b[38;5;33mBatchNormalization\u001b[0m)                 │                             │                 │\n",
       "├──────────────────────────────────────┼─────────────────────────────┼─────────────────┤\n",
       "│ dropout_4 (\u001b[38;5;33mDropout\u001b[0m)                  │ (\u001b[38;5;45mNone\u001b[0m, \u001b[38;5;34m256\u001b[0m)                 │               \u001b[38;5;34m0\u001b[0m │\n",
       "├──────────────────────────────────────┼─────────────────────────────┼─────────────────┤\n",
       "│ dense_6 (\u001b[38;5;33mDense\u001b[0m)                      │ (\u001b[38;5;45mNone\u001b[0m, \u001b[38;5;34m128\u001b[0m)                 │          \u001b[38;5;34m32,896\u001b[0m │\n",
       "├──────────────────────────────────────┼─────────────────────────────┼─────────────────┤\n",
       "│ dropout_5 (\u001b[38;5;33mDropout\u001b[0m)                  │ (\u001b[38;5;45mNone\u001b[0m, \u001b[38;5;34m128\u001b[0m)                 │               \u001b[38;5;34m0\u001b[0m │\n",
       "├──────────────────────────────────────┼─────────────────────────────┼─────────────────┤\n",
       "│ dense_7 (\u001b[38;5;33mDense\u001b[0m)                      │ (\u001b[38;5;45mNone\u001b[0m, \u001b[38;5;34m1\u001b[0m)                   │             \u001b[38;5;34m129\u001b[0m │\n",
       "└──────────────────────────────────────┴─────────────────────────────┴─────────────────┘\n"
      ]
     },
     "metadata": {},
     "output_type": "display_data"
    },
    {
     "data": {
      "text/html": [
       "<pre style=\"white-space:pre;overflow-x:auto;line-height:normal;font-family:Menlo,'DejaVu Sans Mono',consolas,'Courier New',monospace\"><span style=\"font-weight: bold\"> Total params: </span><span style=\"color: #00af00; text-decoration-color: #00af00\">1,191,937</span> (4.55 MB)\n",
       "</pre>\n"
      ],
      "text/plain": [
       "\u001b[1m Total params: \u001b[0m\u001b[38;5;34m1,191,937\u001b[0m (4.55 MB)\n"
      ]
     },
     "metadata": {},
     "output_type": "display_data"
    },
    {
     "data": {
      "text/html": [
       "<pre style=\"white-space:pre;overflow-x:auto;line-height:normal;font-family:Menlo,'DejaVu Sans Mono',consolas,'Courier New',monospace\"><span style=\"font-weight: bold\"> Trainable params: </span><span style=\"color: #00af00; text-decoration-color: #00af00\">1,190,401</span> (4.54 MB)\n",
       "</pre>\n"
      ],
      "text/plain": [
       "\u001b[1m Trainable params: \u001b[0m\u001b[38;5;34m1,190,401\u001b[0m (4.54 MB)\n"
      ]
     },
     "metadata": {},
     "output_type": "display_data"
    },
    {
     "data": {
      "text/html": [
       "<pre style=\"white-space:pre;overflow-x:auto;line-height:normal;font-family:Menlo,'DejaVu Sans Mono',consolas,'Courier New',monospace\"><span style=\"font-weight: bold\"> Non-trainable params: </span><span style=\"color: #00af00; text-decoration-color: #00af00\">1,536</span> (6.00 KB)\n",
       "</pre>\n"
      ],
      "text/plain": [
       "\u001b[1m Non-trainable params: \u001b[0m\u001b[38;5;34m1,536\u001b[0m (6.00 KB)\n"
      ]
     },
     "metadata": {},
     "output_type": "display_data"
    }
   ],
   "source": [
    "# --- 7. Model Summary ---\n",
    "# This prints a layer-by-layer summary \n",
    "model.summary()\n"
   ]
  },
  {
   "cell_type": "code",
   "execution_count": 23,
   "id": "6a7d85b2-3f91-49c2-82bc-f33e4427a473",
   "metadata": {
    "scrolled": true
   },
   "outputs": [
    {
     "name": "stdout",
     "output_type": "stream",
     "text": [
      "\n",
      "--- Phase 6: Training the Model ---\n",
      "Epoch 1/50\n",
      "\u001b[1m169/169\u001b[0m \u001b[32m━━━━━━━━━━━━━━━━━━━━\u001b[0m\u001b[37m\u001b[0m \u001b[1m7s\u001b[0m 21ms/step - accuracy: 0.7556 - auc: 0.8322 - loss: 0.5127 - val_accuracy: 0.5017 - val_auc: 0.9756 - val_loss: 0.6904\n",
      "Epoch 2/50\n",
      "\u001b[1m169/169\u001b[0m \u001b[32m━━━━━━━━━━━━━━━━━━━━\u001b[0m\u001b[37m\u001b[0m \u001b[1m5s\u001b[0m 20ms/step - accuracy: 0.9453 - auc: 0.9896 - loss: 0.1301 - val_accuracy: 0.5835 - val_auc: 0.9726 - val_loss: 0.8254\n",
      "Epoch 3/50\n",
      "\u001b[1m169/169\u001b[0m \u001b[32m━━━━━━━━━━━━━━━━━━━━\u001b[0m\u001b[37m\u001b[0m \u001b[1m5s\u001b[0m 20ms/step - accuracy: 0.9620 - auc: 0.9951 - loss: 0.0841 - val_accuracy: 0.9078 - val_auc: 0.9935 - val_loss: 0.1981\n",
      "Epoch 4/50\n",
      "\u001b[1m169/169\u001b[0m \u001b[32m━━━━━━━━━━━━━━━━━━━━\u001b[0m\u001b[37m\u001b[0m \u001b[1m5s\u001b[0m 22ms/step - accuracy: 0.9658 - auc: 0.9962 - loss: 0.0709 - val_accuracy: 0.9628 - val_auc: 0.9967 - val_loss: 0.0869\n",
      "Epoch 5/50\n",
      "\u001b[1m169/169\u001b[0m \u001b[32m━━━━━━━━━━━━━━━━━━━━\u001b[0m\u001b[37m\u001b[0m \u001b[1m5s\u001b[0m 18ms/step - accuracy: 0.9714 - auc: 0.9977 - loss: 0.0587 - val_accuracy: 0.9736 - val_auc: 0.9970 - val_loss: 0.0627\n",
      "Epoch 6/50\n",
      "\u001b[1m169/169\u001b[0m \u001b[32m━━━━━━━━━━━━━━━━━━━━\u001b[0m\u001b[37m\u001b[0m \u001b[1m5s\u001b[0m 19ms/step - accuracy: 0.9710 - auc: 0.9973 - loss: 0.0590 - val_accuracy: 0.9688 - val_auc: 0.9969 - val_loss: 0.0707\n",
      "Epoch 7/50\n",
      "\u001b[1m169/169\u001b[0m \u001b[32m━━━━━━━━━━━━━━━━━━━━\u001b[0m\u001b[37m\u001b[0m \u001b[1m5s\u001b[0m 19ms/step - accuracy: 0.9707 - auc: 0.9971 - loss: 0.0649 - val_accuracy: 0.9749 - val_auc: 0.9975 - val_loss: 0.0569\n",
      "Epoch 8/50\n",
      "\u001b[1m169/169\u001b[0m \u001b[32m━━━━━━━━━━━━━━━━━━━━\u001b[0m\u001b[37m\u001b[0m \u001b[1m6s\u001b[0m 21ms/step - accuracy: 0.9710 - auc: 0.9967 - loss: 0.0672 - val_accuracy: 0.9775 - val_auc: 0.9988 - val_loss: 0.0461\n",
      "Epoch 9/50\n",
      "\u001b[1m169/169\u001b[0m \u001b[32m━━━━━━━━━━━━━━━━━━━━\u001b[0m\u001b[37m\u001b[0m \u001b[1m5s\u001b[0m 21ms/step - accuracy: 0.9777 - auc: 0.9987 - loss: 0.0449 - val_accuracy: 0.9753 - val_auc: 0.9964 - val_loss: 0.0758\n",
      "Epoch 10/50\n",
      "\u001b[1m169/169\u001b[0m \u001b[32m━━━━━━━━━━━━━━━━━━━━\u001b[0m\u001b[37m\u001b[0m \u001b[1m5s\u001b[0m 18ms/step - accuracy: 0.9758 - auc: 0.9982 - loss: 0.0492 - val_accuracy: 0.9680 - val_auc: 0.9978 - val_loss: 0.0714\n",
      "Epoch 11/50\n",
      "\u001b[1m169/169\u001b[0m \u001b[32m━━━━━━━━━━━━━━━━━━━━\u001b[0m\u001b[37m\u001b[0m \u001b[1m5s\u001b[0m 18ms/step - accuracy: 0.9763 - auc: 0.9980 - loss: 0.0475 - val_accuracy: 0.9736 - val_auc: 0.9977 - val_loss: 0.0594\n",
      "Epoch 12/50\n",
      "\u001b[1m169/169\u001b[0m \u001b[32m━━━━━━━━━━━━━━━━━━━━\u001b[0m\u001b[37m\u001b[0m \u001b[1m3s\u001b[0m 20ms/step - accuracy: 0.9784 - auc: 0.9984 - loss: 0.0434 - val_accuracy: 0.9727 - val_auc: 0.9982 - val_loss: 0.0489\n",
      "Epoch 13/50\n",
      "\u001b[1m169/169\u001b[0m \u001b[32m━━━━━━━━━━━━━━━━━━━━\u001b[0m\u001b[37m\u001b[0m \u001b[1m5s\u001b[0m 21ms/step - accuracy: 0.9785 - auc: 0.9989 - loss: 0.0416 - val_accuracy: 0.9723 - val_auc: 0.9981 - val_loss: 0.0533\n"
     ]
    }
   ],
   "source": [
    "# --- 6. Train the Model ---\n",
    "print(\"\\n--- Phase 6: Training the Model ---\")\n",
    "\n",
    "# EarlyStopping:\n",
    "# - monitor: 'val_auc' metric to track here\n",
    "# - patience: how many epochs to wait for improvement before stopping\n",
    "# - mode: 'max' because higher AUC is better\n",
    "# - restore_best_weights: keep the best model after stopping\n",
    "early_stopping = EarlyStopping(\n",
    "    monitor='val_auc',\n",
    "    patience=5,\n",
    "    mode='max',\n",
    "    restore_best_weights=True\n",
    ")\n",
    "\n",
    "# Fit the model\n",
    "history = model.fit(\n",
    "    X_train, y_train,\n",
    "    epochs=50,\n",
    "    batch_size=64,\n",
    "    validation_data=(X_val, y_val),\n",
    "    callbacks=[early_stopping],  \n",
    "    verbose=1\n",
    ")\n"
   ]
  },
  {
   "cell_type": "code",
   "execution_count": 24,
   "id": "377ff715-7bad-49e8-ba14-5bba5c9233bc",
   "metadata": {},
   "outputs": [
    {
     "data": {
      "image/png": "[encoded data removed]",
      "text/plain": [
       "<Figure size 1200x500 with 2 Axes>"
      ]
     },
     "metadata": {},
     "output_type": "display_data"
    }
   ],
   "source": [
    "# --- 7. Plot Training History ---\n",
    "\n",
    "# Accuracy Plot\n",
    "plt.figure(figsize=(12, 5))\n",
    "plt.subplot(1, 2, 1)\n",
    "plt.plot(history.history['accuracy'], label='Train Accuracy')\n",
    "plt.plot(history.history['val_accuracy'], label='Validation Accuracy')\n",
    "plt.title('Training vs Validation Accuracy - MLP Model - Dataset2')\n",
    "plt.xlabel('Epoch')\n",
    "plt.ylabel('Accuracy')\n",
    "plt.legend()\n",
    "plt.grid(True)\n",
    "\n",
    "# AUC Plot\n",
    "plt.subplot(1, 2, 2)\n",
    "plt.plot(history.history['auc'], label='Train AUC')\n",
    "plt.plot(history.history['val_auc'], label='Validation AUC')\n",
    "plt.title('Training vs Validation AUC - MLP Model - Dataset2')\n",
    "plt.xlabel('Epoch')\n",
    "plt.ylabel('AUC')\n",
    "plt.legend()\n",
    "plt.grid(True)\n",
    "\n",
    "plt.tight_layout()\n",
    "plt.show()\n"
   ]
  },
  {
   "cell_type": "code",
   "execution_count": 25,
   "id": "33bd7e4d-939f-4f7a-8791-0166cc091121",
   "metadata": {},
   "outputs": [
    {
     "name": "stdout",
     "output_type": "stream",
     "text": [
      "\n",
      "--- Phase 7: Saving All Assets ---\n",
      "Model saved to C:/Users/Sreelakshmi/00_Final_Project_MENG/Approach 2\\MLP\n",
      "TF-IDF Vectorizer saved to C:/Users/Sreelakshmi/00_Final_Project_MENG/Approach 2\\MLP\n",
      "All split data files saved as CSVs to C:/Users/Sreelakshmi/00_Final_Project_MENG/Approach 2\\MLP\\split_dataset\n"
     ]
    }
   ],
   "source": [
    "# --- 7. Save All Assets ---\n",
    "print(\"\\n--- Phase 7: Saving All Assets ---\")\n",
    "\n",
    "# Save the trained MLP model to disk\n",
    "# This allows us to reload the model later without retraining\n",
    "model.save(os.path.join(OUTPUT_DIR, 'mlp_model_dataset2.keras'))\n",
    "print(f\"Model saved to {OUTPUT_DIR}\")\n",
    "\n",
    "# Save the fitted TF-IDF vectorizer\n",
    "# We need this later to transform new/unseen text data consistently\n",
    "joblib.dump(tfidf_vectorizer, os.path.join(OUTPUT_DIR, 'tfidf_vectorizer.joblib'))\n",
    "print(f\"TF-IDF Vectorizer saved to {OUTPUT_DIR}\")\n",
    "\n",
    "# --- CREATE SUBFOLDER FOR SPLIT DATASETS ---\n",
    "split_dir = os.path.join(OUTPUT_DIR, 'split_dataset')\n",
    "os.makedirs(split_dir, exist_ok=True)  # Create folder if it doesn't exist\n",
    "\n",
    "# Save training features and labels\n",
    "pd.DataFrame(X_train, columns=tfidf_vectorizer.get_feature_names_out()).to_csv(os.path.join(split_dir, 'X_train.csv'))\n",
    "y_train.to_csv(os.path.join(split_dir, 'y_train.csv'))\n",
    "\n",
    "# Save validation features and labels\n",
    "pd.DataFrame(X_val, columns=tfidf_vectorizer.get_feature_names_out()).to_csv(os.path.join(split_dir, 'X_val.csv'))\n",
    "y_val.to_csv(os.path.join(split_dir, 'y_val.csv'))\n",
    "\n",
    "# Save test features and labels\n",
    "pd.DataFrame(X_test, columns=tfidf_vectorizer.get_feature_names_out()).to_csv(os.path.join(split_dir, 'X_test.csv'))\n",
    "y_test.to_csv(os.path.join(split_dir, 'y_test.csv'))\n",
    "\n",
    "print(f\"All split data files saved as CSVs to {split_dir}\")"
   ]
  },
  {
   "cell_type": "code",
   "execution_count": null,
   "id": "13bdf488-13c6-4560-a63f-f52e58487f23",
   "metadata": {},
   "outputs": [],
   "source": []
  }
 ],
 "metadata": {
  "kernelspec": {
   "display_name": "Python (GPU Env)",
   "language": "python",
   "name": "tabular_final_env"
  },
  "language_info": {
   "codemirror_mode": {
    "name": "ipython",
    "version": 3
   },
   "file_extension": ".py",
   "mimetype": "text/x-python",
   "name": "python",
   "nbconvert_exporter": "python",
   "pygments_lexer": "ipython3",
   "version": "3.9.23"
  }
 },
 "nbformat": 4,
 "nbformat_minor": 5
}
